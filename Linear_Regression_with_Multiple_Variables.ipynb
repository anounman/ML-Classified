{
 "cells": [
  {
   "cell_type": "markdown",
   "id": "8d8336d6",
   "metadata": {},
   "source": [
    "Linear Regression with Multiple Variables"
   ]
  },
  {
   "cell_type": "markdown",
   "id": "502fd4b5",
   "metadata": {},
   "source": [
    "# Dataset and setup\n",
    "\n",
    "- X has 8 examples and 4 features per example (shape: 8×4).\n",
    "- y holds the target house prices in dollars.\n",
    "\n",
    "We'll learn weights w (one per feature) and a bias b to predict price from features."
   ]
  },
  {
   "cell_type": "code",
   "execution_count": 1,
   "id": "d3e7c5c1",
   "metadata": {},
   "outputs": [],
   "source": [
    "import numpy as np\n",
    "\n",
    "x = np.array([\n",
    "    [2104, 3, 10, 5],\n",
    "    [1600, 3, 20, 8],\n",
    "    [2400, 3, 15, 3],\n",
    "    [1416, 2, 30, 12],\n",
    "    [3000, 4, 8, 2],\n",
    "    [1985, 4, 25, 9],\n",
    "    [1534, 3, 35, 15],\n",
    "    [1427, 2, 40, 20]\n",
    "])\n",
    "\n",
    "# Prices (target)\n",
    "y = np.array([399900, 329900, 369000, 232000, 539900, 299900, 199000, 149000])\n"
   ]
  },
  {
   "cell_type": "code",
   "execution_count": 2,
   "id": "8d9905f7",
   "metadata": {},
   "outputs": [],
   "source": [
    "def prediction(x , w, b):\n",
    "    return float(np.dot(w , x) + b)"
   ]
  },
  {
   "cell_type": "markdown",
   "id": "22635009",
   "metadata": {},
   "source": [
    "# Prediction function\n",
    "\n",
    "For a single example x (length-4 vector), the model predicts:\n",
    "\n",
    "ŷ = w · x + b\n",
    "\n",
    "We'll reuse this in cost and gradient calculations."
   ]
  },
  {
   "cell_type": "code",
   "execution_count": 3,
   "id": "1ca4eff2",
   "metadata": {},
   "outputs": [],
   "source": [
    "def compute_cost(x , y ,w , b):\n",
    "    m = x.shape[0]\n",
    "    total_cost = 0.0\n",
    "    for i in range(m):\n",
    "        total_cost += (prediction(x[i] , w , b) - y[i]) ** 2\n",
    "    return total_cost / (2*m)"
   ]
  },
  {
   "cell_type": "markdown",
   "id": "28899f8b",
   "metadata": {},
   "source": [
    "# Cost (Mean Squared Error)\n",
    "\n",
    "We measure how well the model fits the data using the average squared error:\n",
    "\n",
    "J(w, b) = (1/2m) Σ_i (ŷ_i - y_i)^2\n",
    "\n",
    "Lower cost means better fit."
   ]
  },
  {
   "cell_type": "code",
   "execution_count": 4,
   "id": "7b4404e3",
   "metadata": {},
   "outputs": [
    {
     "name": "stdout",
     "output_type": "stream",
     "text": [
      "Compute cost with zeros: 5.64e+10\n"
     ]
    }
   ],
   "source": [
    "# Quick sanity cost check with zeros\n",
    "print(f\"Compute cost with zeros: {compute_cost(x, y, np.zeros(x.shape[1]), 0):.2e}\")"
   ]
  },
  {
   "cell_type": "code",
   "execution_count": 5,
   "id": "97192db6",
   "metadata": {},
   "outputs": [],
   "source": [
    "def compute_gradients(x , y , w , b):\n",
    "    m , n = x.shape\n",
    "    dj_dw = np.zeros(n)\n",
    "    dj_db = 0.0\n",
    "    for i in range(m):\n",
    "        err = prediction(x[i] , w, b) - y[i] \n",
    "        for j in range(n):\n",
    "            dj_dw[j] += err * x[i , j]\n",
    "        dj_db += err\n",
    "    return dj_dw / m , dj_db / m"
   ]
  },
  {
   "cell_type": "markdown",
   "id": "952a5ac3",
   "metadata": {},
   "source": [
    "# Gradients\n",
    "\n",
    "We compute partial derivatives of J with respect to each weight w_j and bias b. These tell us how to update parameters to reduce the cost."
   ]
  },
  {
   "cell_type": "code",
   "execution_count": 6,
   "id": "607c298e",
   "metadata": {},
   "outputs": [],
   "source": [
    "def gradient_descent(x , y , w, b , alpha , num_iters):\n",
    "    compute_history = []\n",
    "    for i in range(num_iters):\n",
    "        dj_dw , dj_db = compute_gradients(x , y, w , b)\n",
    "        w -= alpha * dj_dw\n",
    "        b -= alpha * dj_db\n",
    "        if(i%10000 == 0):\n",
    "            cost = compute_cost(x , y, w, b)\n",
    "            compute_history.append(cost) \n",
    "            print(f\"iter:{i:6d} cost:{cost:.2e}\")\n",
    "    return w , b , compute_history"
   ]
  },
  {
   "cell_type": "markdown",
   "id": "6643f66b",
   "metadata": {},
   "source": [
    "# Gradient Descent\n",
    "\n",
    "Iteratively update parameters:\n",
    "- w := w - α ∂J/∂w\n",
    "- b := b - α ∂J/∂b\n",
    "\n",
    "We also log cost every 10,000 steps to monitor progress."
   ]
  },
  {
   "cell_type": "code",
   "execution_count": 11,
   "id": "6fa884f0",
   "metadata": {},
   "outputs": [
    {
     "name": "stdout",
     "output_type": "stream",
     "text": [
      "iter:     0 cost:2.11e+10\n",
      "iter:  1000 cost:1.28e+09\n",
      "iter:  2000 cost:1.24e+09\n",
      "iter:  3000 cost:1.21e+09\n",
      "iter:  4000 cost:1.18e+09\n",
      "iter:  5000 cost:1.15e+09\n",
      "iter:  6000 cost:1.12e+09\n",
      "iter:  7000 cost:1.09e+09\n",
      "iter:  8000 cost:1.07e+09\n",
      "iter:  9000 cost:1.05e+09\n",
      "iter: 10000 cost:1.03e+09\n",
      "iter: 11000 cost:1.01e+09\n",
      "iter: 12000 cost:9.87e+08\n",
      "iter: 13000 cost:9.69e+08\n",
      "iter: 14000 cost:9.53e+08\n",
      "iter: 15000 cost:9.37e+08\n",
      "iter: 16000 cost:9.22e+08\n",
      "iter: 17000 cost:9.08e+08\n",
      "iter: 18000 cost:8.95e+08\n",
      "iter: 19000 cost:8.83e+08\n",
      "Final parameters:\n",
      " w = [ 175.4740639    -2.23562391 -840.97799015 -385.53632747]\n",
      " b = -6.6436925341631925\n",
      "Final cost = 871449889.7196572\n"
     ]
    }
   ],
   "source": [
    "w, b, compute_history = gradient_descent(\n",
    "    x, y,\n",
    "    np.zeros(x.shape[1]), 0.0,\n",
    "    alpha=1e-7, num_iters=20000\n",
    ")\n",
    "print(f\"Final parameters:\\n w = {w}\\n b = {b}\")\n",
    "print(f\"Final cost = {compute_cost(x, y, w, b)}\")"
   ]
  },
  {
   "cell_type": "code",
   "execution_count": 12,
   "id": "9a7887c7",
   "metadata": {},
   "outputs": [
    {
     "data": {
      "image/png": "[encoded data removed]",
      "text/plain": [
       "<Figure size 800x500 with 1 Axes>"
      ]
     },
     "metadata": {},
     "output_type": "display_data"
    }
   ],
   "source": [
    "import matplotlib.pyplot as plt\n",
    "\n",
    "predictions = x @ w + b\n",
    "plt.figure(figsize=(8,5))\n",
    "plt.scatter(range(len(y)), y, color='blue', label='Actual Prices')\n",
    "plt.scatter(range(len(predictions)), predictions, color='red', label='Predicted Prices')\n",
    "plt.title(\"Actual vs Predicted House Prices\")\n",
    "plt.xlabel(\"Example Index\")\n",
    "plt.ylabel(\"Price\")\n",
    "plt.legend()\n",
    "\n",
    "# Add text labels for clarity (optional; can be noisy)\n",
    "for i in range(len(y)):\n",
    "    plt.text(i, y[i] + 5000, f\"y:{int(y[i])}\", color='blue', fontsize=8)\n",
    "    plt.text(i, predictions[i] - 15000, f\"ŷ:{int(predictions[i])}\", color='red', fontsize=8)\n",
    "\n",
    "plt.tight_layout()\n",
    "plt.show()"
   ]
  },
  {
   "cell_type": "markdown",
   "id": "3288d417",
   "metadata": {},
   "source": [
    "# Visualizing predictions\n",
    "\n",
    "After training, we compare actual prices vs. model predictions to see how well the model fits this small dataset."
   ]
  }
 ],
 "metadata": {
  "kernelspec": {
   "display_name": "env",
   "language": "python",
   "name": "python3"
  },
  "language_info": {
   "codemirror_mode": {
    "name": "ipython",
    "version": 3
   },
   "file_extension": ".py",
   "mimetype": "text/x-python",
   "name": "python",
   "nbconvert_exporter": "python",
   "pygments_lexer": "ipython3",
   "version": "3.9.6"
  }
 },
 "nbformat": 4,
 "nbformat_minor": 5
}
