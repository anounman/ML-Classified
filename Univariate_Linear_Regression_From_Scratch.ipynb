{
 "cells": [
  {
   "cell_type": "markdown",
   "id": "c0d580bf",
   "metadata": {},
   "source": [
    "Univariate Linear Regression from Scratch\n",
    "This notebook implements univariate linear regression using NumPy"
   ]
  },
  {
   "cell_type": "code",
   "execution_count": 12,
   "id": "a73c5d15",
   "metadata": {},
   "outputs": [
    {
     "name": "stdout",
     "output_type": "stream",
     "text": [
      "304897.25\n"
     ]
    }
   ],
   "source": [
    "import numpy as np\n",
    "\n",
    "# Example data: sizes (x) and prices (y)\n",
    "x = np.array([1,2,3,4,5,6,7,8,9,10])\n",
    "y = np.array([7,10,13,16,19,22,25,28,31,34])\n",
    "\n",
    "def compute_cost(x, y, w, b):\n",
    "    \"\"\"Compute mean squared error cost for linear regression.\"\"\"\n",
    "    m = len(x)\n",
    "    total_cost = 0\n",
    "    for i in range(m):\n",
    "        y_pred = w * x[i] + b\n",
    "        total_cost += (y_pred - y[i]) ** 2\n",
    "    # Return average half MSE so the derivative is nice (1/(2m))\n",
    "    return total_cost / (2 * m)\n",
    "\n",
    "print(compute_cost(x, y, 100, 200))"
   ]
  },
  {
   "cell_type": "markdown",
   "id": "a3224f8d",
   "metadata": {},
   "source": [
    "### Cost function explanation\n",
    "The `compute_cost` function calculates the mean squared error (MSE) divided by 2 (i.e. 1/(2m) * sum((y_pred - y)^2)).\n",
    "Inputs: `x` (features), `y` (targets), `w` (weight), `b` (bias).\n",
    "Output: scalar cost.\n",
    "Why divide by 2m? It simplifies the gradient expressions (derivative of squared error includes a 2 that cancels).\n",
    "Complexity: O(m) where m is the number of examples."
   ]
  },
  {
   "cell_type": "markdown",
   "id": "68535d27",
   "metadata": {},
   "source": [
    "Less cost means better model"
   ]
  },
  {
   "cell_type": "markdown",
   "id": "135a0331",
   "metadata": {},
   "source": [
    "Finding the best w and b"
   ]
  },
  {
   "cell_type": "code",
   "execution_count": 13,
   "id": "147cdf73",
   "metadata": {},
   "outputs": [
    {
     "name": "stdout",
     "output_type": "stream",
     "text": [
      "Itaration:0 w:=0.1375 b:=0.0205\n",
      "Itaration:100 w:=3.4306401109796894 b:=0.5676816864196809\n",
      "Itaration:200 w:=3.4804296232195457 b:=0.6474457325318768\n",
      "Itaration:300 w:=3.4715128183106776 b:=0.7172682200833771\n",
      "Itaration:400 w:=3.4617337203853866 b:=0.7854892539794522\n",
      "Itaration:500 w:=3.452138812014106 b:=0.8522898573320101\n",
      "Itaration:600 w:=3.4427429491887844 b:=0.9177022317480243\n",
      "Itaration:700 w:=3.433542334939885 b:=0.981755274678086\n",
      "Itaration:800 w:=3.42453291798342 b:=1.0444772351928513\n",
      "Itaration:900 w:=3.415710725172036 b:=1.1058957744513171\n",
      "Optimized w:=3.407157359482963 b:=1.1654427870360153\n"
     ]
    }
   ],
   "source": [
    "def compute_gradient(x , y, w, b):\n",
    "    \"\"\"Compute gradients (dj_dw, dj_db) for linear regression.\"\"\"\n",
    "    m = len(x)\n",
    "    dj_dw = 0\n",
    "    dj_db = 0\n",
    "\n",
    "    for i in range(m):\n",
    "        y_pred = w * x[i] + b\n",
    "        dj_dw += (y_pred - y[i]) * x[i]\n",
    "        dj_db += (y_pred - y[i])\n",
    "    \n",
    "    dj_dw /= m\n",
    "    dj_db /= m\n",
    "    return dj_dw , dj_db\n",
    "def gradient_descent(x , y , w , b , alpha , num_iterator):\n",
    "    for i in range(num_iterator):\n",
    "        dj_dw , dj_db = compute_gradient(x ,y , w, b)\n",
    "        w -= alpha * dj_dw\n",
    "        b -= alpha * dj_db\n",
    "        if i % 100 == 0:\n",
    "            print(f\"Itaration:{i} w:={w} b:={b}\")\n",
    "    return w , b\n",
    "\n",
    "# WARNING: very large iteration count will take a long time. Use smaller counts for experimentation.\n",
    "w , b = gradient_descent(x , y , 0 , 0 , alpha=0.001 , num_iterator=1000)\n",
    "print(f\"Optimized w:={w} b:={b}\")"
   ]
  },
  {
   "cell_type": "markdown",
   "id": "eb30ad4f",
   "metadata": {},
   "source": [
    "### Gradient and Gradient Descent explanation\n",
    "`compute_gradient` returns the partial derivatives of the cost w.r.t. `w` and `b` (averaged over examples).\n",
    "`gradient_decent` (named with a small typo in this notebook) repeatedly updates `w` and `b` by stepping in the negative gradient direction scaled by the learning rate `alpha`.\n",
    "Tuning notes:\n",
    "- `alpha` (learning rate): too large -> divergence; too small -> very slow convergence.\n",
    "- `num_itarator`: number of updates/iterations. For testing, try small values (e.g., 1000) first.\n",
    "- Print statements show progress every 100 iterations in the current implementation."
   ]
  },
  {
   "cell_type": "code",
   "execution_count": 14,
   "id": "da0c1b33",
   "metadata": {},
   "outputs": [
    {
     "name": "stdout",
     "output_type": "stream",
     "text": [
      "model cost before gradient decent:304897.25\n",
      "model cost after gradient decent:0.8609572021340812\n"
     ]
    }
   ],
   "source": [
    "model_cost = compute_cost(x , y , 100 , 200)\n",
    "print(f\"model cost before gradient decent:{model_cost}\")\n",
    "model_cost_optimized = compute_cost(x , y, w , b)\n",
    "print(f\"model cost after gradient decent:{model_cost_optimized}\")"
   ]
  },
  {
   "cell_type": "code",
   "execution_count": 15,
   "id": "b3dfee1e",
   "metadata": {},
   "outputs": [
    {
     "data": {
      "image/png": "[encoded data removed]",
      "text/plain": [
       "<Figure size 640x480 with 1 Axes>"
      ]
     },
     "metadata": {},
     "output_type": "display_data"
    }
   ],
   "source": [
    "import matplotlib.pyplot as plt\n",
    "\n",
    "plt.scatter(x, y, color='red', label='Training data')\n",
    "plt.plot(x, w * x + b, color='blue', label='Fitted line')\n",
    "plt.xlabel(\"Size (1000 sqft)\")\n",
    "plt.ylabel(\"Price (1000s $)\")\n",
    "plt.legend()\n",
    "plt.show()"
   ]
  },
  {
   "cell_type": "markdown",
   "id": "dab34793",
   "metadata": {},
   "source": [
    "### Prediction (model output)\n",
    "Once `w` and `b` are learned, you can predict new `y` values using `y = w * x + b`.\n",
    "The helper `model_output` below works with scalars or NumPy arrays (NumPy broadcasting will apply)."
   ]
  },
  {
   "cell_type": "code",
   "execution_count": 16,
   "id": "98d93b68",
   "metadata": {},
   "outputs": [
    {
     "name": "stdout",
     "output_type": "stream",
     "text": [
      "A House  of size 1 price should be 4.572600146518979\n"
     ]
    }
   ],
   "source": [
    "def model_output(x , w ,b):\n",
    "    return w * x + b\n",
    "\n",
    "new_house_size = 1\n",
    "new_house_price = model_output(new_house_size , w, b)\n",
    "print(f\"A House  of size {new_house_size} price should be {new_house_price}\")"
   ]
  }
 ],
 "metadata": {
  "kernelspec": {
   "display_name": "env",
   "language": "python",
   "name": "python3"
  },
  "language_info": {
   "codemirror_mode": {
    "name": "ipython",
    "version": 3
   },
   "file_extension": ".py",
   "mimetype": "text/x-python",
   "name": "python",
   "nbconvert_exporter": "python",
   "pygments_lexer": "ipython3",
   "version": "3.9.6"
  }
 },
 "nbformat": 4,
 "nbformat_minor": 5
}
